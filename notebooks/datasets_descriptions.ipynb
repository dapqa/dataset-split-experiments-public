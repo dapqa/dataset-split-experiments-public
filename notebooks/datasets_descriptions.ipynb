{
 "cells": [
  {
   "cell_type": "markdown",
   "source": [
    "The notebook for dataset summary description table generation."
   ],
   "metadata": {
    "collapsed": false
   }
  },
  {
   "cell_type": "code",
   "execution_count": 1,
   "metadata": {
    "collapsed": true
   },
   "outputs": [],
   "source": [
    "import pandas as pd\n",
    "from drsu.config import DRSUConfiguration\n",
    "from drsu.datasets import ALL_DESCRIPTORS, as_pandas, download_and_transform_dataset\n",
    "\n",
    "DRSUConfiguration.local_dataset_dir = '../data'\n",
    "RESULTS_DIR = '../results'"
   ]
  },
  {
   "cell_type": "code",
   "execution_count": 2,
   "outputs": [
    {
     "name": "stdout",
     "output_type": "stream",
     "text": [
      "Chosen Datasets:  ['Movielens 100k', 'Movielens 1M', 'Movielens 10M', 'epinions', 'LibraryThing', 'GoodRead Reviews (w/ spoilers)', 'Drug Recommendations', 'Amazon Ratings (Software)', 'Amazon Ratings (Amazon Fashion)', 'Amazon Ratings (All Beauty)', 'Amazon Ratings (Appliances)', 'Amazon Ratings (Gift Cards)', 'Amazon Ratings (Luxury Beauty)', 'Amazon Ratings (Magazine Subscriptions)', 'Amazon Ratings (Prime Pantry)']\n"
     ]
    }
   ],
   "source": [
    "DATASETS = []\n",
    "for dd in ALL_DESCRIPTORS:\n",
    "    if dd.id.startswith('amz_'):\n",
    "        if dd.n_rows > 1000000:\n",
    "            continue\n",
    "\n",
    "    DATASETS.append(dd)\n",
    "\n",
    "print('Chosen Datasets: ', [dd.name for dd in DATASETS])"
   ],
   "metadata": {
    "collapsed": false,
    "pycharm": {
     "name": "#%%\n"
    }
   }
  },
  {
   "cell_type": "code",
   "execution_count": 3,
   "outputs": [
    {
     "name": "stdout",
     "output_type": "stream",
     "text": [
      "\"Movielens 100k\" ready\n",
      "\"Movielens 1M\" ready\n",
      "\"Movielens 10M\" ready\n",
      "\"epinions\" ready\n",
      "\"LibraryThing\" ready\n",
      "\"GoodRead Reviews (w/ spoilers)\" ready\n",
      "\"Drug Recommendations\" ready\n",
      "\"Amazon Ratings (Software)\" ready\n",
      "\"Amazon Ratings (Amazon Fashion)\" ready\n",
      "\"Amazon Ratings (All Beauty)\" ready\n",
      "\"Amazon Ratings (Appliances)\" ready\n",
      "\"Amazon Ratings (Gift Cards)\" ready\n",
      "\"Amazon Ratings (Luxury Beauty)\" ready\n",
      "\"Amazon Ratings (Magazine Subscriptions)\" ready\n",
      "\"Amazon Ratings (Prime Pantry)\" ready\n"
     ]
    }
   ],
   "source": [
    "for dd in DATASETS:\n",
    "    download_and_transform_dataset(dd, verbose=False)\n",
    "    print(f'\"{dd.name}\" ready')"
   ],
   "metadata": {
    "collapsed": false,
    "pycharm": {
     "name": "#%%\n"
    }
   }
  },
  {
   "cell_type": "code",
   "execution_count": 4,
   "outputs": [
    {
     "data": {
      "text/plain": "                                             Rows # of Users # of Items  \\\nMovielens 100k                             100000        943       1682   \nMovielens 1M                              1000209       6040       3706   \nMovielens 10M                            10000054      69878      10677   \nepinions                                   188478     116260      41269   \nLibraryThing                              1387125      70618     385251   \nGoodRead Reviews (w/ spoilers)            1330981      18868      25469   \nDrug Recommendations                        53471        708       2635   \nAmazon Ratings (Software)                  459436      21663     375147   \nAmazon Ratings (Amazon Fashion)            883636     186189     749233   \nAmazon Ratings (All Beauty)                371345      32586     324038   \nAmazon Ratings (Appliances)                602777      30252     515650   \nAmazon Ratings (Gift Cards)                147194       1548     128877   \nAmazon Ratings (Luxury Beauty)             574628      12120     416174   \nAmazon Ratings (Magazine Subscriptions)     89689       2428      72098   \nAmazon Ratings (Prime Pantry)              471614      10814     247659   \n\n                                        Avg RPU Avg RPI  \nMovielens 100k                           106.04   59.45  \nMovielens 1M                             165.60  269.89  \nMovielens 10M                            143.11  936.60  \nepinions                                   1.62    4.57  \nLibraryThing                              19.64    3.60  \nGoodRead Reviews (w/ spoilers)            70.54   52.26  \nDrug Recommendations                      75.52   20.29  \nAmazon Ratings (Software)                 21.21    1.22  \nAmazon Ratings (Amazon Fashion)            4.75    1.18  \nAmazon Ratings (All Beauty)               11.40    1.15  \nAmazon Ratings (Appliances)               19.93    1.17  \nAmazon Ratings (Gift Cards)               95.09    1.14  \nAmazon Ratings (Luxury Beauty)            47.41    1.38  \nAmazon Ratings (Magazine Subscriptions)   36.94    1.24  \nAmazon Ratings (Prime Pantry)             43.61    1.90  ",
      "text/html": "<div>\n<style scoped>\n    .dataframe tbody tr th:only-of-type {\n        vertical-align: middle;\n    }\n\n    .dataframe tbody tr th {\n        vertical-align: top;\n    }\n\n    .dataframe thead th {\n        text-align: right;\n    }\n</style>\n<table border=\"1\" class=\"dataframe\">\n  <thead>\n    <tr style=\"text-align: right;\">\n      <th></th>\n      <th>Rows</th>\n      <th># of Users</th>\n      <th># of Items</th>\n      <th>Avg RPU</th>\n      <th>Avg RPI</th>\n    </tr>\n  </thead>\n  <tbody>\n    <tr>\n      <th>Movielens 100k</th>\n      <td>100000</td>\n      <td>943</td>\n      <td>1682</td>\n      <td>106.04</td>\n      <td>59.45</td>\n    </tr>\n    <tr>\n      <th>Movielens 1M</th>\n      <td>1000209</td>\n      <td>6040</td>\n      <td>3706</td>\n      <td>165.60</td>\n      <td>269.89</td>\n    </tr>\n    <tr>\n      <th>Movielens 10M</th>\n      <td>10000054</td>\n      <td>69878</td>\n      <td>10677</td>\n      <td>143.11</td>\n      <td>936.60</td>\n    </tr>\n    <tr>\n      <th>epinions</th>\n      <td>188478</td>\n      <td>116260</td>\n      <td>41269</td>\n      <td>1.62</td>\n      <td>4.57</td>\n    </tr>\n    <tr>\n      <th>LibraryThing</th>\n      <td>1387125</td>\n      <td>70618</td>\n      <td>385251</td>\n      <td>19.64</td>\n      <td>3.60</td>\n    </tr>\n    <tr>\n      <th>GoodRead Reviews (w/ spoilers)</th>\n      <td>1330981</td>\n      <td>18868</td>\n      <td>25469</td>\n      <td>70.54</td>\n      <td>52.26</td>\n    </tr>\n    <tr>\n      <th>Drug Recommendations</th>\n      <td>53471</td>\n      <td>708</td>\n      <td>2635</td>\n      <td>75.52</td>\n      <td>20.29</td>\n    </tr>\n    <tr>\n      <th>Amazon Ratings (Software)</th>\n      <td>459436</td>\n      <td>21663</td>\n      <td>375147</td>\n      <td>21.21</td>\n      <td>1.22</td>\n    </tr>\n    <tr>\n      <th>Amazon Ratings (Amazon Fashion)</th>\n      <td>883636</td>\n      <td>186189</td>\n      <td>749233</td>\n      <td>4.75</td>\n      <td>1.18</td>\n    </tr>\n    <tr>\n      <th>Amazon Ratings (All Beauty)</th>\n      <td>371345</td>\n      <td>32586</td>\n      <td>324038</td>\n      <td>11.40</td>\n      <td>1.15</td>\n    </tr>\n    <tr>\n      <th>Amazon Ratings (Appliances)</th>\n      <td>602777</td>\n      <td>30252</td>\n      <td>515650</td>\n      <td>19.93</td>\n      <td>1.17</td>\n    </tr>\n    <tr>\n      <th>Amazon Ratings (Gift Cards)</th>\n      <td>147194</td>\n      <td>1548</td>\n      <td>128877</td>\n      <td>95.09</td>\n      <td>1.14</td>\n    </tr>\n    <tr>\n      <th>Amazon Ratings (Luxury Beauty)</th>\n      <td>574628</td>\n      <td>12120</td>\n      <td>416174</td>\n      <td>47.41</td>\n      <td>1.38</td>\n    </tr>\n    <tr>\n      <th>Amazon Ratings (Magazine Subscriptions)</th>\n      <td>89689</td>\n      <td>2428</td>\n      <td>72098</td>\n      <td>36.94</td>\n      <td>1.24</td>\n    </tr>\n    <tr>\n      <th>Amazon Ratings (Prime Pantry)</th>\n      <td>471614</td>\n      <td>10814</td>\n      <td>247659</td>\n      <td>43.61</td>\n      <td>1.90</td>\n    </tr>\n  </tbody>\n</table>\n</div>"
     },
     "execution_count": 4,
     "metadata": {},
     "output_type": "execute_result"
    }
   ],
   "source": [
    "res = pd.DataFrame(columns=['Rows', '# of Users', '# of Items', 'Avg RPU', 'Avg RPI'], index=[dd.name for dd in DATASETS])\n",
    "for dd in DATASETS:\n",
    "    df = as_pandas(dd)\n",
    "    res['Rows'][dd.name] = len(df)\n",
    "    res['# of Users'][dd.name] = df['user_id'].nunique()\n",
    "    res['# of Items'][dd.name] = df['item_id'].nunique()\n",
    "    res['Avg RPU'][dd.name] = f\"{res['Rows'][dd.name] / res['# of Users'][dd.name]:.2f}\"\n",
    "    res['Avg RPI'][dd.name] = f\"{res['Rows'][dd.name] / res['# of Items'][dd.name]:.2f}\"\n",
    "\n",
    "res"
   ],
   "metadata": {
    "collapsed": false,
    "pycharm": {
     "name": "#%%\n"
    }
   }
  }
 ],
 "metadata": {
  "kernelspec": {
   "display_name": "Python 3",
   "language": "python",
   "name": "python3"
  },
  "language_info": {
   "codemirror_mode": {
    "name": "ipython",
    "version": 2
   },
   "file_extension": ".py",
   "mimetype": "text/x-python",
   "name": "python",
   "nbconvert_exporter": "python",
   "pygments_lexer": "ipython2",
   "version": "2.7.6"
  }
 },
 "nbformat": 4,
 "nbformat_minor": 0
}